{
  "nbformat": 4,
  "nbformat_minor": 0,
  "metadata": {
    "colab": {
      "name": "Cryptocurrency_webscrapping.ipynb",
      "provenance": [],
      "authorship_tag": "ABX9TyOifqcs5tCbCqznY6t/4kb7",
      "include_colab_link": true
    },
    "kernelspec": {
      "name": "python3",
      "display_name": "Python 3"
    },
    "language_info": {
      "name": "python"
    }
  },
  "cells": [
    {
      "cell_type": "markdown",
      "metadata": {
        "id": "view-in-github",
        "colab_type": "text"
      },
      "source": [
        "<a href=\"https://colab.research.google.com/github/pushyag1/Data-Analytics-Data-Engineering/blob/main/Cryptocurrency_webscrapping.ipynb\" target=\"_parent\"><img src=\"https://colab.research.google.com/assets/colab-badge.svg\" alt=\"Open In Colab\"/></a>"
      ]
    },
    {
      "cell_type": "code",
      "metadata": {
        "colab": {
          "base_uri": "https://localhost:8080/"
        },
        "id": "v_k0hImkV7vg",
        "outputId": "d146b517-0d11-4819-8739-4348aac88faa"
      },
      "source": [
        "pip install beautifulsoup4"
      ],
      "execution_count": 1,
      "outputs": [
        {
          "output_type": "stream",
          "text": [
            "Requirement already satisfied: beautifulsoup4 in /usr/local/lib/python3.7/dist-packages (4.6.3)\n"
          ],
          "name": "stdout"
        }
      ]
    },
    {
      "cell_type": "code",
      "metadata": {
        "id": "vudkae9XWHRM"
      },
      "source": [
        "from bs4 import BeautifulSoup\n",
        "import requests\n",
        "import pandas as pd\n",
        "import json\n",
        "import time"
      ],
      "execution_count": 2,
      "outputs": []
    },
    {
      "cell_type": "code",
      "metadata": {
        "id": "pzudL9vSWY4n"
      },
      "source": [
        "cmc= requests.get(\"https://coinmarketcap.com/\")"
      ],
      "execution_count": 3,
      "outputs": []
    },
    {
      "cell_type": "code",
      "metadata": {
        "id": "Cji7_EE8WlIA"
      },
      "source": [
        "soup= BeautifulSoup(cmc.content, 'html.parser')"
      ],
      "execution_count": 4,
      "outputs": []
    },
    {
      "cell_type": "code",
      "metadata": {
        "colab": {
          "base_uri": "https://localhost:8080/"
        },
        "id": "NyYnWqeNWtqr",
        "outputId": "8ef1f189-0466-42a4-e6f2-3fefb5acb312"
      },
      "source": [
        "print(soup.title)"
      ],
      "execution_count": 5,
      "outputs": [
        {
          "output_type": "stream",
          "text": [
            "<title>Cryptocurrency Prices, Charts And Market Capitalizations | CoinMarketCap</title>\n"
          ],
          "name": "stdout"
        }
      ]
    },
    {
      "cell_type": "code",
      "metadata": {
        "id": "hlRCV3wCWwDq"
      },
      "source": [
        "print(soup.prettify())"
      ],
      "execution_count": null,
      "outputs": []
    },
    {
      "cell_type": "code",
      "metadata": {
        "id": "DJ6XujFDW3KB"
      },
      "source": [
        "data = soup.find('script',id='__NEXT_DATA__',type=\"application/json\")"
      ],
      "execution_count": 8,
      "outputs": []
    },
    {
      "cell_type": "code",
      "metadata": {
        "id": "9r2USakGXepS"
      },
      "source": [
        "coins=[]\n",
        "coin_data= json.loads(data.contents[0])\n",
        "listings= coin_data['props']['initialState']['cryptocurrency']['quotesLatest']['data']\n",
        "for list1,value in listings.items():\n",
        "  coins.append(value['slug'])\n",
        "    #coins(j['id'])] = j['slug']"
      ],
      "execution_count": 127,
      "outputs": []
    },
    {
      "cell_type": "code",
      "metadata": {
        "colab": {
          "base_uri": "https://localhost:8080/"
        },
        "id": "Jhq2lno79Zs4",
        "outputId": "06d637a3-933b-4a5c-d901-a46cb0285ae6"
      },
      "source": [
        "coins"
      ],
      "execution_count": 124,
      "outputs": [
        {
          "output_type": "execute_result",
          "data": {
            "text/plain": [
              "['bitcoin', 'litecoin', 'xrp', 'ethereum', 'bitcoin-cash']"
            ]
          },
          "metadata": {
            "tags": []
          },
          "execution_count": 124
        }
      ]
    },
    {
      "cell_type": "code",
      "metadata": {
        "colab": {
          "base_uri": "https://localhost:8080/"
        },
        "id": "SchDpZPC-2Ug",
        "outputId": "f407de74-c099-4ed2-cf15-65b5594b2451"
      },
      "source": [
        "type(i)"
      ],
      "execution_count": 131,
      "outputs": [
        {
          "output_type": "execute_result",
          "data": {
            "text/plain": [
              "str"
            ]
          },
          "metadata": {
            "tags": []
          },
          "execution_count": 131
        }
      ]
    },
    {
      "cell_type": "code",
      "metadata": {
        "colab": {
          "base_uri": "https://localhost:8080/"
        },
        "id": "-eU-jMEj9shN",
        "outputId": "fcc75224-6e73-435b-a53b-493783f88fcd"
      },
      "source": [
        "result1=[]\n",
        "for i in coins:\n",
        "  result1.append('https://coinmarketcap.com/currencies/'+i+'/historical-data/?start=20200101&end=20200630')\n",
        "result1"
      ],
      "execution_count": 151,
      "outputs": [
        {
          "output_type": "execute_result",
          "data": {
            "text/plain": [
              "['https://coinmarketcap.com/currencies/bitcoin/historical-data/?start=20200101&end=20200630',\n",
              " 'https://coinmarketcap.com/currencies/litecoin/historical-data/?start=20200101&end=20200630',\n",
              " 'https://coinmarketcap.com/currencies/xrp/historical-data/?start=20200101&end=20200630',\n",
              " 'https://coinmarketcap.com/currencies/ethereum/historical-data/?start=20200101&end=20200630',\n",
              " 'https://coinmarketcap.com/currencies/bitcoin-cash/historical-data/?start=20200101&end=20200630']"
            ]
          },
          "metadata": {
            "tags": []
          },
          "execution_count": 151
        }
      ]
    },
    {
      "cell_type": "code",
      "metadata": {
        "id": "O7ROXOvHM_e_"
      },
      "source": [
        "for i in coins:\n",
        "  page = requests.get(f'https://coinmarketcap.com/currencies/'+i+'/historical-data/?start=20200101&end=20200630')\n",
        "  soup= BeautifulSoup(page.content,'html.parser')\n",
        "  data=soup.find('script',id=\"__NEXT_DATA__\",type=\"application/json\")\n",
        "  historical_data= json.loads(data.contents[0])\n"
      ],
      "execution_count": 169,
      "outputs": []
    },
    {
      "cell_type": "code",
      "metadata": {
        "id": "1lJ8B8tsO4he"
      },
      "source": [
        "historical_data"
      ],
      "execution_count": null,
      "outputs": []
    },
    {
      "cell_type": "code",
      "metadata": {
        "colab": {
          "base_uri": "https://localhost:8080/",
          "height": 35
        },
        "id": "yU_eRDbNQEOA",
        "outputId": "fea86bd4-261b-4c1a-87bf-791383b6b5c5"
      },
      "source": [
        "i"
      ],
      "execution_count": 171,
      "outputs": [
        {
          "output_type": "execute_result",
          "data": {
            "application/vnd.google.colaboratory.intrinsic+json": {
              "type": "string"
            },
            "text/plain": [
              "'bitcoin-cash'"
            ]
          },
          "metadata": {
            "tags": []
          },
          "execution_count": 171
        }
      ]
    },
    {
      "cell_type": "code",
      "metadata": {
        "id": "iBzQP_eUZYDB"
      },
      "source": [
        "#quotes= historical_data['props']['initialState']['cryptocurrency']['ohlcvHistorical'][]"
      ],
      "execution_count": 170,
      "outputs": []
    },
    {
      "cell_type": "code",
      "metadata": {
        "colab": {
          "base_uri": "https://localhost:8080/"
        },
        "id": "fWruahzvcufl",
        "outputId": "e32dcc1f-498c-4241-d69c-9cd997b63607"
      },
      "source": [
        "#quotes"
      ],
      "execution_count": 23,
      "outputs": [
        {
          "output_type": "execute_result",
          "data": {
            "text/plain": [
              "{}"
            ]
          },
          "metadata": {
            "tags": []
          },
          "execution_count": 23
        }
      ]
    },
    {
      "cell_type": "code",
      "metadata": {
        "id": "7Fo84MHnadQc"
      },
      "source": [
        "#https://towardsdatascience.com/web-scraping-crypto-prices-with-python-41072ea5b5bf"
      ],
      "execution_count": 51,
      "outputs": []
    },
    {
      "cell_type": "code",
      "metadata": {
        "id": "GwnJMCIpalA_"
      },
      "source": [
        ""
      ],
      "execution_count": null,
      "outputs": []
    }
  ]
}